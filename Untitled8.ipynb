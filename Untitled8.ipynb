{
  "nbformat": 4,
  "nbformat_minor": 0,
  "metadata": {
    "colab": {
      "provenance": [],
      "authorship_tag": "ABX9TyPD0o6Cq6CzimYdm/m7SrLf",
      "include_colab_link": true
    },
    "kernelspec": {
      "name": "python3",
      "display_name": "Python 3"
    },
    "language_info": {
      "name": "python"
    }
  },
  "cells": [
    {
      "cell_type": "markdown",
      "metadata": {
        "id": "view-in-github",
        "colab_type": "text"
      },
      "source": [
        "<a href=\"https://colab.research.google.com/github/Deepikat11/random/blob/main/Untitled8.ipynb\" target=\"_parent\"><img src=\"https://colab.research.google.com/assets/colab-badge.svg\" alt=\"Open In Colab\"/></a>"
      ]
    },
    {
      "cell_type": "code",
      "execution_count": 1,
      "metadata": {
        "id": "7WEoUZ5LYsCS"
      },
      "outputs": [],
      "source": [
        "import pandas as pd\n"
      ]
    },
    {
      "cell_type": "code",
      "source": [
        "df=pd.read_csv('chipotle.csv')\n",
        "print(df.head())"
      ],
      "metadata": {
        "colab": {
          "base_uri": "https://localhost:8080/"
        },
        "id": "DYBJhqwkY2Ju",
        "outputId": "35860e05-1e1b-4953-d29b-f40f479dd671"
      },
      "execution_count": 3,
      "outputs": [
        {
          "output_type": "stream",
          "name": "stdout",
          "text": [
            "   order_id  quantity                              item_name  \\\n",
            "0         1         1           Chips and Fresh Tomato Salsa   \n",
            "1         1         1                                   Izze   \n",
            "2         1         1                       Nantucket Nectar   \n",
            "3         1         1  Chips and Tomatillo-Green Chili Salsa   \n",
            "4         2         2                           Chicken Bowl   \n",
            "\n",
            "                                  choice_description item_price  \n",
            "0                                                NaN     $2.39   \n",
            "1                                       [Clementine]     $3.39   \n",
            "2                                            [Apple]     $3.39   \n",
            "3                                                NaN     $2.39   \n",
            "4  [Tomatillo-Red Chili Salsa (Hot), [Black Beans...    $16.98   \n"
          ]
        }
      ]
    },
    {
      "cell_type": "code",
      "source": [
        "df['item_price']=df['item_price'].replace('[\\$,]','').astype(float)"
      ],
      "metadata": {
        "id": "5F-jZc27Zia3"
      },
      "execution_count": 10,
      "outputs": []
    },
    {
      "cell_type": "code",
      "source": [
        "print(df['order_id'].nunique())"
      ],
      "metadata": {
        "colab": {
          "base_uri": "https://localhost:8080/"
        },
        "id": "BiIvo62LY9b7",
        "outputId": "793aa920-db63-4b3e-96f8-f3f8ff150629"
      },
      "execution_count": 13,
      "outputs": [
        {
          "output_type": "stream",
          "name": "stdout",
          "text": [
            "1834\n"
          ]
        }
      ]
    },
    {
      "cell_type": "code",
      "source": [
        "avg=df.groupby('order_id')['item_price'].sum().mean()\n",
        "print(avg)"
      ],
      "metadata": {
        "colab": {
          "base_uri": "https://localhost:8080/"
        },
        "id": "RASBEaRcaH2s",
        "outputId": "0cf9cdeb-3ac8-45c3-c0cd-ffcabc29fc72"
      },
      "execution_count": 16,
      "outputs": [
        {
          "output_type": "stream",
          "name": "stdout",
          "text": [
            "18.811428571428568\n"
          ]
        }
      ]
    },
    {
      "cell_type": "code",
      "source": [
        "print(df['item_name'].nunique())"
      ],
      "metadata": {
        "colab": {
          "base_uri": "https://localhost:8080/"
        },
        "id": "kDmyYf8JaiNV",
        "outputId": "a30a5fa6-174e-4373-af9c-111f66fc2837"
      },
      "execution_count": 17,
      "outputs": [
        {
          "output_type": "stream",
          "name": "stdout",
          "text": [
            "50\n"
          ]
        }
      ]
    },
    {
      "cell_type": "code",
      "source": [
        "print(df.groupby('item_name')['quantity'].sum().sort_values(ascending=False).head())"
      ],
      "metadata": {
        "colab": {
          "base_uri": "https://localhost:8080/"
        },
        "id": "oZiAREeDasbu",
        "outputId": "cb754182-c8a9-4795-ec26-2db10d16ef2b"
      },
      "execution_count": 21,
      "outputs": [
        {
          "output_type": "stream",
          "name": "stdout",
          "text": [
            "item_name\n",
            "Chicken Bowl           761\n",
            "Chicken Burrito        591\n",
            "Chips and Guacamole    506\n",
            "Steak Burrito          386\n",
            "Canned Soft Drink      351\n",
            "Name: quantity, dtype: int64\n"
          ]
        }
      ]
    },
    {
      "cell_type": "code",
      "source": [
        "print(df['choice_description'].nunique())"
      ],
      "metadata": {
        "colab": {
          "base_uri": "https://localhost:8080/"
        },
        "id": "IwZ9gdxDbNbV",
        "outputId": "110d929c-6366-4c91-f897-40507beb2f03"
      },
      "execution_count": 22,
      "outputs": [
        {
          "output_type": "stream",
          "name": "stdout",
          "text": [
            "1043\n"
          ]
        }
      ]
    },
    {
      "cell_type": "code",
      "source": [
        "high=df.groupby('order_id')['item_price'].sum()\n",
        "print(high.idxmax())\n",
        "print(high.max())"
      ],
      "metadata": {
        "colab": {
          "base_uri": "https://localhost:8080/"
        },
        "id": "FW3ElPEtbUwy",
        "outputId": "c217a0c6-447f-4acc-902e-8374a188a25b"
      },
      "execution_count": 23,
      "outputs": [
        {
          "output_type": "stream",
          "name": "stdout",
          "text": [
            "926\n",
            "205.25\n"
          ]
        }
      ]
    },
    {
      "cell_type": "code",
      "source": [
        "incon=df.groupby('item_name')['item_price'].nunique()\n",
        "i=incon[incon>1].index.tolist()\n",
        "print(i)"
      ],
      "metadata": {
        "colab": {
          "base_uri": "https://localhost:8080/"
        },
        "id": "he1ZgaL3b55v",
        "outputId": "f6a22bf5-a749-4088-911b-550402b4c845"
      },
      "execution_count": 30,
      "outputs": [
        {
          "output_type": "stream",
          "name": "stdout",
          "text": [
            "['6 Pack Soft Drink', 'Barbacoa Bowl', 'Barbacoa Burrito', 'Barbacoa Crispy Tacos', 'Barbacoa Salad Bowl', 'Barbacoa Soft Tacos', 'Bottled Water', 'Bowl', 'Canned Soda', 'Canned Soft Drink', 'Carnitas Bowl', 'Carnitas Burrito', 'Carnitas Crispy Tacos', 'Carnitas Salad Bowl', 'Carnitas Soft Tacos', 'Chicken Bowl', 'Chicken Burrito', 'Chicken Crispy Tacos', 'Chicken Salad', 'Chicken Salad Bowl', 'Chicken Soft Tacos', 'Chips', 'Chips and Fresh Tomato Salsa', 'Chips and Guacamole', 'Chips and Roasted Chili Corn Salsa', 'Chips and Tomatillo Green Chili Salsa', 'Chips and Tomatillo Red Chili Salsa', 'Chips and Tomatillo-Green Chili Salsa', 'Chips and Tomatillo-Red Chili Salsa', 'Nantucket Nectar', 'Side of Chips', 'Steak Bowl', 'Steak Burrito', 'Steak Crispy Tacos', 'Steak Salad', 'Steak Salad Bowl', 'Steak Soft Tacos', 'Veggie Bowl', 'Veggie Burrito', 'Veggie Salad Bowl', 'Veggie Soft Tacos']\n"
          ]
        }
      ]
    },
    {
      "cell_type": "code",
      "source": [
        "t=df.groupby('item_name')['item_price'].mean()\n",
        "print(t)"
      ],
      "metadata": {
        "colab": {
          "base_uri": "https://localhost:8080/"
        },
        "id": "O5CyuOogccbE",
        "outputId": "7ad021b7-a231-4c1e-dab4-b08b2fbce4a8"
      },
      "execution_count": 32,
      "outputs": [
        {
          "output_type": "stream",
          "name": "stdout",
          "text": [
            "item_name\n",
            "6 Pack Soft Drink                         6.610185\n",
            "Barbacoa Bowl                            10.187273\n",
            "Barbacoa Burrito                          9.832418\n",
            "Barbacoa Crispy Tacos                    10.928182\n",
            "Barbacoa Salad Bowl                      10.640000\n",
            "Barbacoa Soft Tacos                      10.018400\n",
            "Bottled Water                             1.867654\n",
            "Bowl                                     14.800000\n",
            "Burrito                                   7.400000\n",
            "Canned Soda                               1.320577\n",
            "Canned Soft Drink                         1.457641\n",
            "Carnitas Bowl                            10.833971\n",
            "Carnitas Burrito                         10.132712\n",
            "Carnitas Crispy Tacos                    11.137143\n",
            "Carnitas Salad                            8.990000\n",
            "Carnitas Salad Bowl                      11.056667\n",
            "Carnitas Soft Tacos                       9.398500\n",
            "Chicken Bowl                             10.113953\n",
            "Chicken Burrito                          10.082857\n",
            "Chicken Crispy Tacos                     10.045319\n",
            "Chicken Salad                             9.010000\n",
            "Chicken Salad Bowl                       11.170455\n",
            "Chicken Soft Tacos                        9.635565\n",
            "Chips                                     2.342844\n",
            "Chips and Fresh Tomato Salsa              3.285091\n",
            "Chips and Guacamole                       4.595073\n",
            "Chips and Mild Fresh Tomato Salsa         3.000000\n",
            "Chips and Roasted Chili Corn Salsa        3.084091\n",
            "Chips and Roasted Chili-Corn Salsa        2.390000\n",
            "Chips and Tomatillo Green Chili Salsa     3.087209\n",
            "Chips and Tomatillo Red Chili Salsa       3.072917\n",
            "Chips and Tomatillo-Green Chili Salsa     2.544194\n",
            "Chips and Tomatillo-Red Chili Salsa       2.987500\n",
            "Crispy Tacos                              7.400000\n",
            "Izze                                      3.390000\n",
            "Nantucket Nectar                          3.641111\n",
            "Salad                                     7.400000\n",
            "Side of Chips                             1.840594\n",
            "Steak Bowl                               10.711801\n",
            "Steak Burrito                            10.465842\n",
            "Steak Crispy Tacos                       10.209714\n",
            "Steak Salad                               8.915000\n",
            "Steak Salad Bowl                         11.847931\n",
            "Steak Soft Tacos                          9.746364\n",
            "Veggie Bowl                              10.211647\n",
            "Veggie Burrito                            9.839684\n",
            "Veggie Crispy Tacos                       8.490000\n",
            "Veggie Salad                              8.490000\n",
            "Veggie Salad Bowl                        10.138889\n",
            "Veggie Soft Tacos                        10.565714\n",
            "Name: item_price, dtype: float64\n"
          ]
        }
      ]
    },
    {
      "cell_type": "code",
      "source": [
        "print(df['item_price'].mean())"
      ],
      "metadata": {
        "colab": {
          "base_uri": "https://localhost:8080/"
        },
        "id": "Ql3FxGL4ggpG",
        "outputId": "030986f3-297f-4534-8b78-176c5845aef0"
      },
      "execution_count": 33,
      "outputs": [
        {
          "output_type": "stream",
          "name": "stdout",
          "text": [
            "7.464335785374297\n"
          ]
        }
      ]
    },
    {
      "cell_type": "code",
      "source": [
        "print(df[['item_price','item_name']].drop_duplicates().sort_values('item_price'))"
      ],
      "metadata": {
        "colab": {
          "base_uri": "https://localhost:8080/"
        },
        "id": "_hf15Zl1gojB",
        "outputId": "538f70f2-aa1b-446d-f420-b845c4472eca"
      },
      "execution_count": 43,
      "outputs": [
        {
          "output_type": "stream",
          "name": "stdout",
          "text": [
            "      item_price                     item_name\n",
            "34          1.09                 Bottled Water\n",
            "28          1.09                   Canned Soda\n",
            "263         1.25             Canned Soft Drink\n",
            "329         1.50                 Bottled Water\n",
            "6           1.69                 Side of Chips\n",
            "...          ...                           ...\n",
            "409        32.94                  Chicken Bowl\n",
            "3601       33.75                Veggie Burrito\n",
            "1254       35.00               Chicken Burrito\n",
            "3480       35.25                 Carnitas Bowl\n",
            "3598       44.25  Chips and Fresh Tomato Salsa\n",
            "\n",
            "[209 rows x 2 columns]\n"
          ]
        }
      ]
    },
    {
      "cell_type": "code",
      "source": [
        "print(df[df['item_name'].str.lower()=='canned soda'])"
      ],
      "metadata": {
        "colab": {
          "base_uri": "https://localhost:8080/"
        },
        "id": "sttE6A5uhnuI",
        "outputId": "7d49d47c-90d5-4c04-de97-eb92bab26ee9"
      },
      "execution_count": 42,
      "outputs": [
        {
          "output_type": "stream",
          "name": "stdout",
          "text": [
            "      order_id  quantity    item_name choice_description  item_price\n",
            "18           9         2  Canned Soda           [Sprite]        2.18\n",
            "28          14         1  Canned Soda       [Dr. Pepper]        1.09\n",
            "51          23         2  Canned Soda     [Mountain Dew]        2.18\n",
            "53          24         1  Canned Soda           [Sprite]        1.09\n",
            "107         47         1  Canned Soda       [Dr. Pepper]        1.09\n",
            "...        ...       ...          ...                ...         ...\n",
            "3897      1562         1  Canned Soda     [Mountain Dew]        1.09\n",
            "3926      1575         1  Canned Soda       [Dr. Pepper]        1.09\n",
            "3936      1578         1  Canned Soda  [Diet Dr. Pepper]        1.09\n",
            "4008      1604         1  Canned Soda        [Diet Coke]        1.09\n",
            "4051      1621         1  Canned Soda           [Sprite]        1.09\n",
            "\n",
            "[104 rows x 5 columns]\n"
          ]
        }
      ]
    }
  ]
}